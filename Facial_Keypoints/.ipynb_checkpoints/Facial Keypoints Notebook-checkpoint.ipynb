{
 "cells": [
  {
   "cell_type": "code",
   "execution_count": 15,
   "metadata": {},
   "outputs": [],
   "source": [
    "import plaidml.keras\n",
    "plaidml.keras.install_backend()"
   ]
  },
  {
   "cell_type": "code",
   "execution_count": 16,
   "metadata": {},
   "outputs": [],
   "source": [
    "import matplotlib.pyplot as plt\n",
    "from keras.layers import Dense, Convolution2D, MaxPooling2D, Flatten, Dropout\n",
    "from keras.models import Sequential\n",
    "import pandas as pd\n",
    "import numpy as np\n",
    "from sklearn import preprocessing as sk"
   ]
  },
  {
   "cell_type": "code",
   "execution_count": 17,
   "metadata": {},
   "outputs": [],
   "source": [
    "raw = pd.read_csv(\"training.csv\")"
   ]
  },
  {
   "cell_type": "code",
   "execution_count": 18,
   "metadata": {
    "scrolled": false
   },
   "outputs": [
    {
     "data": {
      "text/html": [
       "<div>\n",
       "<style scoped>\n",
       "    .dataframe tbody tr th:only-of-type {\n",
       "        vertical-align: middle;\n",
       "    }\n",
       "\n",
       "    .dataframe tbody tr th {\n",
       "        vertical-align: top;\n",
       "    }\n",
       "\n",
       "    .dataframe thead th {\n",
       "        text-align: right;\n",
       "    }\n",
       "</style>\n",
       "<table border=\"1\" class=\"dataframe\">\n",
       "  <thead>\n",
       "    <tr style=\"text-align: right;\">\n",
       "      <th></th>\n",
       "      <th>left_eye_center_x</th>\n",
       "      <th>left_eye_center_y</th>\n",
       "      <th>right_eye_center_x</th>\n",
       "      <th>right_eye_center_y</th>\n",
       "      <th>left_eye_inner_corner_x</th>\n",
       "      <th>left_eye_inner_corner_y</th>\n",
       "      <th>left_eye_outer_corner_x</th>\n",
       "      <th>left_eye_outer_corner_y</th>\n",
       "      <th>right_eye_inner_corner_x</th>\n",
       "      <th>right_eye_inner_corner_y</th>\n",
       "      <th>...</th>\n",
       "      <th>nose_tip_y</th>\n",
       "      <th>mouth_left_corner_x</th>\n",
       "      <th>mouth_left_corner_y</th>\n",
       "      <th>mouth_right_corner_x</th>\n",
       "      <th>mouth_right_corner_y</th>\n",
       "      <th>mouth_center_top_lip_x</th>\n",
       "      <th>mouth_center_top_lip_y</th>\n",
       "      <th>mouth_center_bottom_lip_x</th>\n",
       "      <th>mouth_center_bottom_lip_y</th>\n",
       "      <th>Image</th>\n",
       "    </tr>\n",
       "  </thead>\n",
       "  <tbody>\n",
       "    <tr>\n",
       "      <th>0</th>\n",
       "      <td>66.033564</td>\n",
       "      <td>39.002274</td>\n",
       "      <td>30.227008</td>\n",
       "      <td>36.421678</td>\n",
       "      <td>59.582075</td>\n",
       "      <td>39.647423</td>\n",
       "      <td>73.130346</td>\n",
       "      <td>39.969997</td>\n",
       "      <td>36.356571</td>\n",
       "      <td>37.389402</td>\n",
       "      <td>...</td>\n",
       "      <td>57.066803</td>\n",
       "      <td>61.195308</td>\n",
       "      <td>79.970165</td>\n",
       "      <td>28.614496</td>\n",
       "      <td>77.388992</td>\n",
       "      <td>43.312602</td>\n",
       "      <td>72.935459</td>\n",
       "      <td>43.130707</td>\n",
       "      <td>84.485774</td>\n",
       "      <td>238 236 237 238 240 240 239 241 241 243 240 23...</td>\n",
       "    </tr>\n",
       "    <tr>\n",
       "      <th>1</th>\n",
       "      <td>64.332936</td>\n",
       "      <td>34.970077</td>\n",
       "      <td>29.949277</td>\n",
       "      <td>33.448715</td>\n",
       "      <td>58.856170</td>\n",
       "      <td>35.274349</td>\n",
       "      <td>70.722723</td>\n",
       "      <td>36.187166</td>\n",
       "      <td>36.034723</td>\n",
       "      <td>34.361532</td>\n",
       "      <td>...</td>\n",
       "      <td>55.660936</td>\n",
       "      <td>56.421447</td>\n",
       "      <td>76.352000</td>\n",
       "      <td>35.122383</td>\n",
       "      <td>76.047660</td>\n",
       "      <td>46.684596</td>\n",
       "      <td>70.266553</td>\n",
       "      <td>45.467915</td>\n",
       "      <td>85.480170</td>\n",
       "      <td>219 215 204 196 204 211 212 200 180 168 178 19...</td>\n",
       "    </tr>\n",
       "    <tr>\n",
       "      <th>2</th>\n",
       "      <td>65.057053</td>\n",
       "      <td>34.909642</td>\n",
       "      <td>30.903789</td>\n",
       "      <td>34.909642</td>\n",
       "      <td>59.412000</td>\n",
       "      <td>36.320968</td>\n",
       "      <td>70.984421</td>\n",
       "      <td>36.320968</td>\n",
       "      <td>37.678105</td>\n",
       "      <td>36.320968</td>\n",
       "      <td>...</td>\n",
       "      <td>53.538947</td>\n",
       "      <td>60.822947</td>\n",
       "      <td>73.014316</td>\n",
       "      <td>33.726316</td>\n",
       "      <td>72.732000</td>\n",
       "      <td>47.274947</td>\n",
       "      <td>70.191789</td>\n",
       "      <td>47.274947</td>\n",
       "      <td>78.659368</td>\n",
       "      <td>144 142 159 180 188 188 184 180 167 132 84 59 ...</td>\n",
       "    </tr>\n",
       "    <tr>\n",
       "      <th>3</th>\n",
       "      <td>65.225739</td>\n",
       "      <td>37.261774</td>\n",
       "      <td>32.023096</td>\n",
       "      <td>37.261774</td>\n",
       "      <td>60.003339</td>\n",
       "      <td>39.127179</td>\n",
       "      <td>72.314713</td>\n",
       "      <td>38.380967</td>\n",
       "      <td>37.618643</td>\n",
       "      <td>38.754115</td>\n",
       "      <td>...</td>\n",
       "      <td>54.166539</td>\n",
       "      <td>65.598887</td>\n",
       "      <td>72.703722</td>\n",
       "      <td>37.245496</td>\n",
       "      <td>74.195478</td>\n",
       "      <td>50.303165</td>\n",
       "      <td>70.091687</td>\n",
       "      <td>51.561183</td>\n",
       "      <td>78.268383</td>\n",
       "      <td>193 192 193 194 194 194 193 192 168 111 50 12 ...</td>\n",
       "    </tr>\n",
       "    <tr>\n",
       "      <th>4</th>\n",
       "      <td>66.725301</td>\n",
       "      <td>39.621261</td>\n",
       "      <td>32.244810</td>\n",
       "      <td>38.042032</td>\n",
       "      <td>58.565890</td>\n",
       "      <td>39.621261</td>\n",
       "      <td>72.515926</td>\n",
       "      <td>39.884466</td>\n",
       "      <td>36.982380</td>\n",
       "      <td>39.094852</td>\n",
       "      <td>...</td>\n",
       "      <td>64.889521</td>\n",
       "      <td>60.671411</td>\n",
       "      <td>77.523239</td>\n",
       "      <td>31.191755</td>\n",
       "      <td>76.997301</td>\n",
       "      <td>44.962748</td>\n",
       "      <td>73.707387</td>\n",
       "      <td>44.227141</td>\n",
       "      <td>86.871166</td>\n",
       "      <td>147 148 160 196 215 214 216 217 219 220 206 18...</td>\n",
       "    </tr>\n",
       "  </tbody>\n",
       "</table>\n",
       "<p>5 rows × 31 columns</p>\n",
       "</div>"
      ],
      "text/plain": [
       "   left_eye_center_x  left_eye_center_y  right_eye_center_x  \\\n",
       "0          66.033564          39.002274           30.227008   \n",
       "1          64.332936          34.970077           29.949277   \n",
       "2          65.057053          34.909642           30.903789   \n",
       "3          65.225739          37.261774           32.023096   \n",
       "4          66.725301          39.621261           32.244810   \n",
       "\n",
       "   right_eye_center_y  left_eye_inner_corner_x  left_eye_inner_corner_y  \\\n",
       "0           36.421678                59.582075                39.647423   \n",
       "1           33.448715                58.856170                35.274349   \n",
       "2           34.909642                59.412000                36.320968   \n",
       "3           37.261774                60.003339                39.127179   \n",
       "4           38.042032                58.565890                39.621261   \n",
       "\n",
       "   left_eye_outer_corner_x  left_eye_outer_corner_y  right_eye_inner_corner_x  \\\n",
       "0                73.130346                39.969997                 36.356571   \n",
       "1                70.722723                36.187166                 36.034723   \n",
       "2                70.984421                36.320968                 37.678105   \n",
       "3                72.314713                38.380967                 37.618643   \n",
       "4                72.515926                39.884466                 36.982380   \n",
       "\n",
       "   right_eye_inner_corner_y  ...  nose_tip_y  mouth_left_corner_x  \\\n",
       "0                 37.389402  ...   57.066803            61.195308   \n",
       "1                 34.361532  ...   55.660936            56.421447   \n",
       "2                 36.320968  ...   53.538947            60.822947   \n",
       "3                 38.754115  ...   54.166539            65.598887   \n",
       "4                 39.094852  ...   64.889521            60.671411   \n",
       "\n",
       "   mouth_left_corner_y  mouth_right_corner_x  mouth_right_corner_y  \\\n",
       "0            79.970165             28.614496             77.388992   \n",
       "1            76.352000             35.122383             76.047660   \n",
       "2            73.014316             33.726316             72.732000   \n",
       "3            72.703722             37.245496             74.195478   \n",
       "4            77.523239             31.191755             76.997301   \n",
       "\n",
       "   mouth_center_top_lip_x  mouth_center_top_lip_y  mouth_center_bottom_lip_x  \\\n",
       "0               43.312602               72.935459                  43.130707   \n",
       "1               46.684596               70.266553                  45.467915   \n",
       "2               47.274947               70.191789                  47.274947   \n",
       "3               50.303165               70.091687                  51.561183   \n",
       "4               44.962748               73.707387                  44.227141   \n",
       "\n",
       "   mouth_center_bottom_lip_y  \\\n",
       "0                  84.485774   \n",
       "1                  85.480170   \n",
       "2                  78.659368   \n",
       "3                  78.268383   \n",
       "4                  86.871166   \n",
       "\n",
       "                                               Image  \n",
       "0  238 236 237 238 240 240 239 241 241 243 240 23...  \n",
       "1  219 215 204 196 204 211 212 200 180 168 178 19...  \n",
       "2  144 142 159 180 188 188 184 180 167 132 84 59 ...  \n",
       "3  193 192 193 194 194 194 193 192 168 111 50 12 ...  \n",
       "4  147 148 160 196 215 214 216 217 219 220 206 18...  \n",
       "\n",
       "[5 rows x 31 columns]"
      ]
     },
     "execution_count": 18,
     "metadata": {},
     "output_type": "execute_result"
    }
   ],
   "source": [
    "raw.head()"
   ]
  },
  {
   "cell_type": "code",
   "execution_count": 19,
   "metadata": {},
   "outputs": [
    {
     "data": {
      "text/plain": [
       "False    31\n",
       "dtype: int64"
      ]
     },
     "execution_count": 19,
     "metadata": {},
     "output_type": "execute_result"
    }
   ],
   "source": [
    "raw.fillna(method = \"ffill\",inplace=True)\n",
    "raw.isnull().any().value_counts()"
   ]
  },
  {
   "cell_type": "code",
   "execution_count": 20,
   "metadata": {},
   "outputs": [
    {
     "data": {
      "text/html": [
       "<div>\n",
       "<style scoped>\n",
       "    .dataframe tbody tr th:only-of-type {\n",
       "        vertical-align: middle;\n",
       "    }\n",
       "\n",
       "    .dataframe tbody tr th {\n",
       "        vertical-align: top;\n",
       "    }\n",
       "\n",
       "    .dataframe thead th {\n",
       "        text-align: right;\n",
       "    }\n",
       "</style>\n",
       "<table border=\"1\" class=\"dataframe\">\n",
       "  <thead>\n",
       "    <tr style=\"text-align: right;\">\n",
       "      <th></th>\n",
       "      <th>left_eye_center_x</th>\n",
       "      <th>left_eye_center_y</th>\n",
       "      <th>right_eye_center_x</th>\n",
       "      <th>right_eye_center_y</th>\n",
       "      <th>left_eye_inner_corner_x</th>\n",
       "      <th>left_eye_inner_corner_y</th>\n",
       "      <th>left_eye_outer_corner_x</th>\n",
       "      <th>left_eye_outer_corner_y</th>\n",
       "      <th>right_eye_inner_corner_x</th>\n",
       "      <th>right_eye_inner_corner_y</th>\n",
       "      <th>...</th>\n",
       "      <th>nose_tip_x</th>\n",
       "      <th>nose_tip_y</th>\n",
       "      <th>mouth_left_corner_x</th>\n",
       "      <th>mouth_left_corner_y</th>\n",
       "      <th>mouth_right_corner_x</th>\n",
       "      <th>mouth_right_corner_y</th>\n",
       "      <th>mouth_center_top_lip_x</th>\n",
       "      <th>mouth_center_top_lip_y</th>\n",
       "      <th>mouth_center_bottom_lip_x</th>\n",
       "      <th>mouth_center_bottom_lip_y</th>\n",
       "    </tr>\n",
       "  </thead>\n",
       "  <tbody>\n",
       "    <tr>\n",
       "      <th>count</th>\n",
       "      <td>7049.000000</td>\n",
       "      <td>7049.000000</td>\n",
       "      <td>7049.000000</td>\n",
       "      <td>7049.000000</td>\n",
       "      <td>7049.000000</td>\n",
       "      <td>7049.000000</td>\n",
       "      <td>7049.000000</td>\n",
       "      <td>7049.000000</td>\n",
       "      <td>7049.000000</td>\n",
       "      <td>7049.000000</td>\n",
       "      <td>...</td>\n",
       "      <td>7049.000000</td>\n",
       "      <td>7049.000000</td>\n",
       "      <td>7049.000000</td>\n",
       "      <td>7049.000000</td>\n",
       "      <td>7049.000000</td>\n",
       "      <td>7049.000000</td>\n",
       "      <td>7049.000000</td>\n",
       "      <td>7049.000000</td>\n",
       "      <td>7049.000000</td>\n",
       "      <td>7049.000000</td>\n",
       "    </tr>\n",
       "    <tr>\n",
       "      <th>mean</th>\n",
       "      <td>66.358588</td>\n",
       "      <td>37.649140</td>\n",
       "      <td>30.306631</td>\n",
       "      <td>37.975901</td>\n",
       "      <td>59.224060</td>\n",
       "      <td>36.675731</td>\n",
       "      <td>73.746775</td>\n",
       "      <td>35.619961</td>\n",
       "      <td>37.214171</td>\n",
       "      <td>38.942849</td>\n",
       "      <td>...</td>\n",
       "      <td>48.374186</td>\n",
       "      <td>62.715884</td>\n",
       "      <td>69.586932</td>\n",
       "      <td>73.195985</td>\n",
       "      <td>33.799680</td>\n",
       "      <td>76.964546</td>\n",
       "      <td>50.425299</td>\n",
       "      <td>74.982529</td>\n",
       "      <td>48.565976</td>\n",
       "      <td>78.979256</td>\n",
       "    </tr>\n",
       "    <tr>\n",
       "      <th>std</th>\n",
       "      <td>3.447098</td>\n",
       "      <td>3.152072</td>\n",
       "      <td>3.083087</td>\n",
       "      <td>3.032590</td>\n",
       "      <td>1.537961</td>\n",
       "      <td>1.581946</td>\n",
       "      <td>1.961901</td>\n",
       "      <td>2.184829</td>\n",
       "      <td>1.393110</td>\n",
       "      <td>1.470456</td>\n",
       "      <td>...</td>\n",
       "      <td>4.280038</td>\n",
       "      <td>5.720567</td>\n",
       "      <td>4.932241</td>\n",
       "      <td>3.242852</td>\n",
       "      <td>2.350229</td>\n",
       "      <td>2.578721</td>\n",
       "      <td>2.543271</td>\n",
       "      <td>3.294983</td>\n",
       "      <td>4.266848</td>\n",
       "      <td>5.406621</td>\n",
       "    </tr>\n",
       "    <tr>\n",
       "      <th>min</th>\n",
       "      <td>22.763345</td>\n",
       "      <td>1.616512</td>\n",
       "      <td>0.686592</td>\n",
       "      <td>4.091264</td>\n",
       "      <td>19.064954</td>\n",
       "      <td>27.190098</td>\n",
       "      <td>27.571879</td>\n",
       "      <td>26.250023</td>\n",
       "      <td>5.751046</td>\n",
       "      <td>26.250023</td>\n",
       "      <td>...</td>\n",
       "      <td>12.944699</td>\n",
       "      <td>17.932414</td>\n",
       "      <td>22.923362</td>\n",
       "      <td>57.023258</td>\n",
       "      <td>2.245766</td>\n",
       "      <td>56.690208</td>\n",
       "      <td>12.605173</td>\n",
       "      <td>56.719043</td>\n",
       "      <td>12.536477</td>\n",
       "      <td>25.850503</td>\n",
       "    </tr>\n",
       "    <tr>\n",
       "      <th>25%</th>\n",
       "      <td>65.082643</td>\n",
       "      <td>35.900605</td>\n",
       "      <td>28.782316</td>\n",
       "      <td>36.327178</td>\n",
       "      <td>59.255347</td>\n",
       "      <td>36.065143</td>\n",
       "      <td>73.942694</td>\n",
       "      <td>34.624653</td>\n",
       "      <td>37.478531</td>\n",
       "      <td>39.355685</td>\n",
       "      <td>...</td>\n",
       "      <td>46.602370</td>\n",
       "      <td>59.292697</td>\n",
       "      <td>65.731401</td>\n",
       "      <td>71.862041</td>\n",
       "      <td>34.232759</td>\n",
       "      <td>77.339429</td>\n",
       "      <td>49.471414</td>\n",
       "      <td>75.963592</td>\n",
       "      <td>46.571821</td>\n",
       "      <td>75.553726</td>\n",
       "    </tr>\n",
       "    <tr>\n",
       "      <th>50%</th>\n",
       "      <td>66.493907</td>\n",
       "      <td>37.526919</td>\n",
       "      <td>30.253135</td>\n",
       "      <td>37.812736</td>\n",
       "      <td>59.255347</td>\n",
       "      <td>36.065143</td>\n",
       "      <td>73.942694</td>\n",
       "      <td>34.624653</td>\n",
       "      <td>37.478531</td>\n",
       "      <td>39.398041</td>\n",
       "      <td>...</td>\n",
       "      <td>48.424713</td>\n",
       "      <td>63.451421</td>\n",
       "      <td>72.600433</td>\n",
       "      <td>71.862041</td>\n",
       "      <td>34.232759</td>\n",
       "      <td>77.339429</td>\n",
       "      <td>51.599453</td>\n",
       "      <td>75.963592</td>\n",
       "      <td>48.588662</td>\n",
       "      <td>78.704640</td>\n",
       "    </tr>\n",
       "    <tr>\n",
       "      <th>75%</th>\n",
       "      <td>68.024628</td>\n",
       "      <td>39.254400</td>\n",
       "      <td>31.768407</td>\n",
       "      <td>39.565928</td>\n",
       "      <td>59.255347</td>\n",
       "      <td>36.499692</td>\n",
       "      <td>73.942694</td>\n",
       "      <td>35.902613</td>\n",
       "      <td>37.478531</td>\n",
       "      <td>39.398041</td>\n",
       "      <td>...</td>\n",
       "      <td>50.330437</td>\n",
       "      <td>66.492686</td>\n",
       "      <td>72.600433</td>\n",
       "      <td>72.591200</td>\n",
       "      <td>34.232759</td>\n",
       "      <td>77.339429</td>\n",
       "      <td>51.599453</td>\n",
       "      <td>75.963592</td>\n",
       "      <td>50.676559</td>\n",
       "      <td>82.236528</td>\n",
       "    </tr>\n",
       "    <tr>\n",
       "      <th>max</th>\n",
       "      <td>94.689280</td>\n",
       "      <td>80.502649</td>\n",
       "      <td>85.039381</td>\n",
       "      <td>81.270911</td>\n",
       "      <td>84.440991</td>\n",
       "      <td>66.562559</td>\n",
       "      <td>95.258090</td>\n",
       "      <td>64.618230</td>\n",
       "      <td>70.714966</td>\n",
       "      <td>69.808803</td>\n",
       "      <td>...</td>\n",
       "      <td>89.438592</td>\n",
       "      <td>95.935644</td>\n",
       "      <td>84.767123</td>\n",
       "      <td>94.673637</td>\n",
       "      <td>74.017993</td>\n",
       "      <td>95.510678</td>\n",
       "      <td>83.989082</td>\n",
       "      <td>94.548359</td>\n",
       "      <td>89.438592</td>\n",
       "      <td>95.808983</td>\n",
       "    </tr>\n",
       "  </tbody>\n",
       "</table>\n",
       "<p>8 rows × 30 columns</p>\n",
       "</div>"
      ],
      "text/plain": [
       "       left_eye_center_x  left_eye_center_y  right_eye_center_x  \\\n",
       "count        7049.000000        7049.000000         7049.000000   \n",
       "mean           66.358588          37.649140           30.306631   \n",
       "std             3.447098           3.152072            3.083087   \n",
       "min            22.763345           1.616512            0.686592   \n",
       "25%            65.082643          35.900605           28.782316   \n",
       "50%            66.493907          37.526919           30.253135   \n",
       "75%            68.024628          39.254400           31.768407   \n",
       "max            94.689280          80.502649           85.039381   \n",
       "\n",
       "       right_eye_center_y  left_eye_inner_corner_x  left_eye_inner_corner_y  \\\n",
       "count         7049.000000              7049.000000              7049.000000   \n",
       "mean            37.975901                59.224060                36.675731   \n",
       "std              3.032590                 1.537961                 1.581946   \n",
       "min              4.091264                19.064954                27.190098   \n",
       "25%             36.327178                59.255347                36.065143   \n",
       "50%             37.812736                59.255347                36.065143   \n",
       "75%             39.565928                59.255347                36.499692   \n",
       "max             81.270911                84.440991                66.562559   \n",
       "\n",
       "       left_eye_outer_corner_x  left_eye_outer_corner_y  \\\n",
       "count              7049.000000              7049.000000   \n",
       "mean                 73.746775                35.619961   \n",
       "std                   1.961901                 2.184829   \n",
       "min                  27.571879                26.250023   \n",
       "25%                  73.942694                34.624653   \n",
       "50%                  73.942694                34.624653   \n",
       "75%                  73.942694                35.902613   \n",
       "max                  95.258090                64.618230   \n",
       "\n",
       "       right_eye_inner_corner_x  right_eye_inner_corner_y  ...   nose_tip_x  \\\n",
       "count               7049.000000               7049.000000  ...  7049.000000   \n",
       "mean                  37.214171                 38.942849  ...    48.374186   \n",
       "std                    1.393110                  1.470456  ...     4.280038   \n",
       "min                    5.751046                 26.250023  ...    12.944699   \n",
       "25%                   37.478531                 39.355685  ...    46.602370   \n",
       "50%                   37.478531                 39.398041  ...    48.424713   \n",
       "75%                   37.478531                 39.398041  ...    50.330437   \n",
       "max                   70.714966                 69.808803  ...    89.438592   \n",
       "\n",
       "        nose_tip_y  mouth_left_corner_x  mouth_left_corner_y  \\\n",
       "count  7049.000000          7049.000000          7049.000000   \n",
       "mean     62.715884            69.586932            73.195985   \n",
       "std       5.720567             4.932241             3.242852   \n",
       "min      17.932414            22.923362            57.023258   \n",
       "25%      59.292697            65.731401            71.862041   \n",
       "50%      63.451421            72.600433            71.862041   \n",
       "75%      66.492686            72.600433            72.591200   \n",
       "max      95.935644            84.767123            94.673637   \n",
       "\n",
       "       mouth_right_corner_x  mouth_right_corner_y  mouth_center_top_lip_x  \\\n",
       "count           7049.000000           7049.000000             7049.000000   \n",
       "mean              33.799680             76.964546               50.425299   \n",
       "std                2.350229              2.578721                2.543271   \n",
       "min                2.245766             56.690208               12.605173   \n",
       "25%               34.232759             77.339429               49.471414   \n",
       "50%               34.232759             77.339429               51.599453   \n",
       "75%               34.232759             77.339429               51.599453   \n",
       "max               74.017993             95.510678               83.989082   \n",
       "\n",
       "       mouth_center_top_lip_y  mouth_center_bottom_lip_x  \\\n",
       "count             7049.000000                7049.000000   \n",
       "mean                74.982529                  48.565976   \n",
       "std                  3.294983                   4.266848   \n",
       "min                 56.719043                  12.536477   \n",
       "25%                 75.963592                  46.571821   \n",
       "50%                 75.963592                  48.588662   \n",
       "75%                 75.963592                  50.676559   \n",
       "max                 94.548359                  89.438592   \n",
       "\n",
       "       mouth_center_bottom_lip_y  \n",
       "count                7049.000000  \n",
       "mean                   78.979256  \n",
       "std                     5.406621  \n",
       "min                    25.850503  \n",
       "25%                    75.553726  \n",
       "50%                    78.704640  \n",
       "75%                    82.236528  \n",
       "max                    95.808983  \n",
       "\n",
       "[8 rows x 30 columns]"
      ]
     },
     "execution_count": 20,
     "metadata": {},
     "output_type": "execute_result"
    }
   ],
   "source": [
    "raw.describe()"
   ]
  },
  {
   "cell_type": "code",
   "execution_count": 21,
   "metadata": {},
   "outputs": [],
   "source": [
    "images = []\n",
    "for i in range(0,7049):\n",
    "    img = raw[\"Image\"][i].split(\" \")\n",
    "    img = ['0' if x ==\" \" else x for x in img]\n",
    "    images.append(img)"
   ]
  },
  {
   "cell_type": "code",
   "execution_count": 22,
   "metadata": {},
   "outputs": [],
   "source": [
    "images = np.array(images,dtype='float')"
   ]
  },
  {
   "cell_type": "code",
   "execution_count": 23,
   "metadata": {},
   "outputs": [
    {
     "data": {
      "image/png": "[encoded data removed]",
      "text/plain": [
       "<Figure size 432x288 with 1 Axes>"
      ]
     },
     "metadata": {
      "needs_background": "light"
     },
     "output_type": "display_data"
    }
   ],
   "source": [
    "xtrain = images.reshape(-1,96,96)\n",
    "plt.imshow(xtrain[6].reshape(96,96),cmap='gray')\n",
    "plt.show()"
   ]
  },
  {
   "cell_type": "code",
   "execution_count": 24,
   "metadata": {},
   "outputs": [
    {
     "data": {
      "text/plain": [
       "array([[178., 177., 178., ..., 177., 177., 177.],\n",
       "       [177., 177., 178., ..., 178., 176., 174.],\n",
       "       [178., 178., 178., ..., 175., 174., 175.],\n",
       "       ...,\n",
       "       [138., 146., 167., ...,  76.,  82., 106.],\n",
       "       [134., 148., 169., ...,  86.,  73.,  90.],\n",
       "       [132., 153., 178., ..., 100.,  72.,  74.]])"
      ]
     },
     "execution_count": 24,
     "metadata": {},
     "output_type": "execute_result"
    }
   ],
   "source": [
    "xtrain[7]"
   ]
  },
  {
   "cell_type": "code",
   "execution_count": 27,
   "metadata": {},
   "outputs": [
    {
     "data": {
      "image/png": "[encoded data removed]",
      "text/plain": [
       "<Figure size 432x288 with 1 Axes>"
      ]
     },
     "metadata": {
      "needs_background": "light"
     },
     "output_type": "display_data"
    }
   ],
   "source": [
    "plt.imshow(images[4].reshape(96,96),cmap='gray')\n",
    "plt.show()"
   ]
  },
  {
   "cell_type": "code",
   "execution_count": 28,
   "metadata": {},
   "outputs": [],
   "source": [
    "ytrain = raw.drop([\"Image\"],axis=1)"
   ]
  },
  {
   "cell_type": "code",
   "execution_count": 63,
   "metadata": {},
   "outputs": [
    {
     "name": "stdout",
     "output_type": "stream",
     "text": [
      "_________________________________________________________________\n",
      "Layer (type)                 Output Shape              Param #   \n",
      "=================================================================\n",
      "conv2d_3 (Conv2D)            (None, 94, 94, 32)        320       \n",
      "_________________________________________________________________\n",
      "conv2d_4 (Conv2D)            (None, 92, 92, 32)        9248      \n",
      "_________________________________________________________________\n",
      "max_pooling2d_2 (MaxPooling2 (None, 46, 46, 32)        0         \n",
      "_________________________________________________________________\n",
      "dropout_3 (Dropout)          (None, 46, 46, 32)        0         \n",
      "_________________________________________________________________\n",
      "flatten_2 (Flatten)          (None, 67712)             0         \n",
      "_________________________________________________________________\n",
      "dense_3 (Dense)              (None, 128)               8667264   \n",
      "_________________________________________________________________\n",
      "dropout_4 (Dropout)          (None, 128)               0         \n",
      "_________________________________________________________________\n",
      "dense_4 (Dense)              (None, 30)                3870      \n",
      "=================================================================\n",
      "Total params: 8,680,702\n",
      "Trainable params: 8,680,702\n",
      "Non-trainable params: 0\n",
      "_________________________________________________________________\n"
     ]
    },
    {
     "name": "stderr",
     "output_type": "stream",
     "text": [
      "C:\\Users\\jjzwiebe\\AppData\\Roaming\\Python\\Python37\\site-packages\\ipykernel_launcher.py:2: UserWarning: Update your `Conv2D` call to the Keras 2 API: `Conv2D(32, (3, 3), activation=\"relu\", input_shape=(96, 96, 1...)`\n",
      "  \n",
      "C:\\Users\\jjzwiebe\\AppData\\Roaming\\Python\\Python37\\site-packages\\ipykernel_launcher.py:3: UserWarning: Update your `Conv2D` call to the Keras 2 API: `Conv2D(32, (3, 3), activation=\"relu\")`\n",
      "  This is separate from the ipykernel package so we can avoid doing imports until\n"
     ]
    }
   ],
   "source": [
    "model = Sequential()\n",
    "model.add(Convolution2D(32, 3, 3, activation='relu', input_shape=(96, 96, 1)))\n",
    "model.add(Convolution2D(32, 3, 3, activation='relu'))\n",
    "model.add(MaxPooling2D(pool_size=(2, 2)))\n",
    "model.add(Dropout(0.1))\n",
    "model.add(Flatten())\n",
    "model.add(Dense(128, activation='relu'))\n",
    "model.add(Dropout(0.5))\n",
    "model.add(Dense(30, activation='softmax'))\n",
    "model.summary()"
   ]
  },
  {
   "cell_type": "code",
   "execution_count": null,
   "metadata": {},
   "outputs": [],
   "source": []
  },
  {
   "cell_type": "code",
   "execution_count": 32,
   "metadata": {},
   "outputs": [],
   "source": [
    "model.compile(loss='mse',\n",
    "              optimizer='adam',\n",
    "              metrics=['accuracy'])"
   ]
  },
  {
   "cell_type": "code",
   "execution_count": 34,
   "metadata": {},
   "outputs": [],
   "source": [
    "images=images.reshape(7049,96,96,1)"
   ]
  },
  {
   "cell_type": "code",
   "execution_count": 46,
   "metadata": {},
   "outputs": [
    {
     "name": "stdout",
     "output_type": "stream",
     "text": [
      "Train on 5639 samples, validate on 1410 samples\n",
      "Epoch 1/1\n",
      "5639/5639 [==============================] - 8s 1ms/step - loss: 2664.1771 - acc: 0.0144 - val_loss: 2706.5990 - val_acc: 0.0000e+00\n"
     ]
    }
   ],
   "source": [
    "history = model.fit(images, ytrain,epochs = 1,batch_size = 256,validation_split = 0.2)"
   ]
  },
  {
   "cell_type": "code",
   "execution_count": 44,
   "metadata": {},
   "outputs": [
    {
     "data": {
      "text/plain": [
       "(7049, 96, 96)"
      ]
     },
     "execution_count": 44,
     "metadata": {},
     "output_type": "execute_result"
    }
   ],
   "source": []
  },
  {
   "cell_type": "code",
   "execution_count": 45,
   "metadata": {},
   "outputs": [
    {
     "ename": "TypeError",
     "evalue": "'History' object is not subscriptable",
     "output_type": "error",
     "traceback": [
      "\u001b[1;31m---------------------------------------------------------------------------\u001b[0m",
      "\u001b[1;31mTypeError\u001b[0m                                 Traceback (most recent call last)",
      "\u001b[1;32m<ipython-input-45-a301341d077c>\u001b[0m in \u001b[0;36m<module>\u001b[1;34m\u001b[0m\n\u001b[0;32m      5\u001b[0m     \u001b[0mx\u001b[0m \u001b[1;33m=\u001b[0m \u001b[0mrange\u001b[0m\u001b[1;33m(\u001b[0m\u001b[1;36m300\u001b[0m\u001b[1;33m)\u001b[0m\u001b[1;33m\u001b[0m\u001b[1;33m\u001b[0m\u001b[0m\n\u001b[0;32m      6\u001b[0m     \u001b[0max\u001b[0m\u001b[1;33m.\u001b[0m\u001b[0mimshow\u001b[0m\u001b[1;33m(\u001b[0m\u001b[0mimg\u001b[0m\u001b[1;33m)\u001b[0m\u001b[1;33m\u001b[0m\u001b[1;33m\u001b[0m\u001b[0m\n\u001b[1;32m----> 7\u001b[1;33m     \u001b[0max\u001b[0m\u001b[1;33m.\u001b[0m\u001b[0mscatter\u001b[0m\u001b[1;33m(\u001b[0m\u001b[0mhistory\u001b[0m\u001b[1;33m[\u001b[0m\u001b[0mimgind\u001b[0m\u001b[1;33m]\u001b[0m\u001b[1;33m[\u001b[0m\u001b[1;36m0\u001b[0m\u001b[1;33m]\u001b[0m\u001b[1;33m,\u001b[0m \u001b[0mhistory\u001b[0m\u001b[1;33m[\u001b[0m\u001b[0mimgind\u001b[0m\u001b[1;33m]\u001b[0m\u001b[1;33m[\u001b[0m\u001b[1;36m1\u001b[0m\u001b[1;33m]\u001b[0m\u001b[1;33m,\u001b[0m \u001b[0mcolor\u001b[0m\u001b[1;33m=\u001b[0m\u001b[1;34m'firebrick'\u001b[0m\u001b[1;33m)\u001b[0m\u001b[1;33m\u001b[0m\u001b[1;33m\u001b[0m\u001b[0m\n\u001b[0m\u001b[0;32m      8\u001b[0m \u001b[1;33m\u001b[0m\u001b[0m\n\u001b[0;32m      9\u001b[0m     \u001b[0max\u001b[0m\u001b[1;33m.\u001b[0m\u001b[0mscatter\u001b[0m\u001b[1;33m(\u001b[0m\u001b[0mytrain\u001b[0m\u001b[1;33m[\u001b[0m\u001b[1;34m\"nose_tip_y\"\u001b[0m\u001b[1;33m]\u001b[0m\u001b[1;33m[\u001b[0m\u001b[0mimgind\u001b[0m\u001b[1;33m]\u001b[0m\u001b[1;33m,\u001b[0m \u001b[0mytrain\u001b[0m\u001b[1;33m[\u001b[0m\u001b[1;34m\"nose_tip_x\"\u001b[0m\u001b[1;33m]\u001b[0m\u001b[1;33m[\u001b[0m\u001b[0mimgind\u001b[0m\u001b[1;33m]\u001b[0m\u001b[1;33m,\u001b[0m \u001b[0mcolor\u001b[0m\u001b[1;33m=\u001b[0m\u001b[1;34m'blue'\u001b[0m\u001b[1;33m)\u001b[0m\u001b[1;33m\u001b[0m\u001b[1;33m\u001b[0m\u001b[0m\n",
      "\u001b[1;31mTypeError\u001b[0m: 'History' object is not subscriptable"
     ]
    },
    {
     "data": {
      "image/png": "[encoded data removed]",
      "text/plain": [
       "<Figure size 432x288 with 1 Axes>"
      ]
     },
     "metadata": {
      "needs_background": "light"
     },
     "output_type": "display_data"
    }
   ],
   "source": []
  },
  {
   "cell_type": "code",
   "execution_count": null,
   "metadata": {},
   "outputs": [],
   "source": [
    "#model.save(\"nonscaledmodel.h5\")"
   ]
  },
  {
   "cell_type": "code",
   "execution_count": null,
   "metadata": {},
   "outputs": [],
   "source": []
  },
  {
   "cell_type": "code",
   "execution_count": 47,
   "metadata": {},
   "outputs": [],
   "source": [
    "testy = pd.read_csv(\"test.csv\")"
   ]
  },
  {
   "cell_type": "code",
   "execution_count": 62,
   "metadata": {},
   "outputs": [
    {
     "ename": "AttributeError",
     "evalue": "'str' object has no attribute 'reshape'",
     "output_type": "error",
     "traceback": [
      "\u001b[1;31m---------------------------------------------------------------------------\u001b[0m",
      "\u001b[1;31mAttributeError\u001b[0m                            Traceback (most recent call last)",
      "\u001b[1;32m<ipython-input-62-85f3881fba8e>\u001b[0m in \u001b[0;36m<module>\u001b[1;34m\u001b[0m\n\u001b[0;32m      1\u001b[0m \u001b[0mtestdata\u001b[0m \u001b[1;33m=\u001b[0m \u001b[0mtesty\u001b[0m\u001b[1;33m[\u001b[0m\u001b[1;34m\"Image\"\u001b[0m\u001b[1;33m]\u001b[0m\u001b[1;33m\u001b[0m\u001b[1;33m\u001b[0m\u001b[0m\n\u001b[1;32m----> 2\u001b[1;33m \u001b[0mtestdata\u001b[0m\u001b[1;33m[\u001b[0m\u001b[1;36m2\u001b[0m\u001b[1;33m]\u001b[0m\u001b[1;33m.\u001b[0m\u001b[0mreshape\u001b[0m\u001b[1;33m(\u001b[0m\u001b[1;36m96\u001b[0m\u001b[1;33m,\u001b[0m\u001b[1;36m96\u001b[0m\u001b[1;33m)\u001b[0m\u001b[1;33m\u001b[0m\u001b[1;33m\u001b[0m\u001b[0m\n\u001b[0m",
      "\u001b[1;31mAttributeError\u001b[0m: 'str' object has no attribute 'reshape'"
     ]
    }
   ],
   "source": [
    "testdata = testy[\"Image\"]\n"
   ]
  },
  {
   "cell_type": "code",
   "execution_count": null,
   "metadata": {},
   "outputs": [],
   "source": [
    "result = model.predict(testdata,verbose=1)"
   ]
  },
  {
   "cell_type": "code",
   "execution_count": null,
   "metadata": {},
   "outputs": [],
   "source": [
    "for imgind in range(200):\n",
    "    imgind = 5\n",
    "    img = xtrain[imgind]\n",
    "    fig, ax = plt.subplots()\n",
    "    x = range(300)\n",
    "    ax.imshow(img)\n",
    "    ax.scatter(history[imgind][0], history[imgind][1], color='firebrick')\n",
    "\n",
    "    ax.scatter(ytrain[\"nose_tip_y\"][imgind], ytrain[\"nose_tip_x\"][imgind], color='blue')"
   ]
  },
  {
   "cell_type": "code",
   "execution_count": null,
   "metadata": {},
   "outputs": [],
   "source": [
    "lookup = pd.read_csv(\"Facial_Keypoints/IdLookupTable.csv\")\n",
    "lookid_list = list(lookid_data['FeatureName'])\n",
    "imageID = list(lookid_data['ImageId']-1)\n",
    "pre_list = list(result)\n",
    "\n",
    "\n",
    "rowid = lookid_data['RowId']\n",
    "rowid=list(rowid)\n",
    "\n",
    "\n",
    "\n",
    "feature = []\n",
    "for f in list(lookid_data['FeatureName']):\n",
    "    feature.append(lookid_list.index(f))\n",
    "\n",
    "\n",
    "\n",
    "preded = []\n",
    "for x,y in zip(imageID,feature):\n",
    "    preded.append(pre_list[x][y])\n",
    "\n",
    "\n",
    "rowid = pd.Series(rowid,name = 'RowId')\n",
    "\n",
    "loc = pd.Series(preded,name = 'Location')\n",
    "submission = pd.concat([rowid,loc],axis = 1)\n",
    "\n",
    "\n",
    "submission.to_csv('face_key_detection_submission.csv',index = False)\n",
    "\n"
   ]
  }
 ],
 "metadata": {
  "kernelspec": {
   "display_name": "Python 3",
   "language": "python",
   "name": "python3"
  },
  "language_info": {
   "codemirror_mode": {
    "name": "ipython",
    "version": 3
   },
   "file_extension": ".py",
   "mimetype": "text/x-python",
   "name": "python",
   "nbconvert_exporter": "python",
   "pygments_lexer": "ipython3",
   "version": "3.7.4"
  }
 },
 "nbformat": 4,
 "nbformat_minor": 2
}
